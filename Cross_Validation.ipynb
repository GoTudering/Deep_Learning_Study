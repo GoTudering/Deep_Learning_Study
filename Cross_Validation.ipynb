{
  "nbformat": 4,
  "nbformat_minor": 0,
  "metadata": {
    "colab": {
      "name": "Cross_Validation.ipynb",
      "provenance": [],
      "authorship_tag": "ABX9TyMW5KSyPBWonS79yI19CSEM",
      "include_colab_link": true
    },
    "kernelspec": {
      "name": "python3",
      "display_name": "Python 3"
    },
    "language_info": {
      "name": "python"
    }
  },
  "cells": [
    {
      "cell_type": "markdown",
      "metadata": {
        "id": "view-in-github",
        "colab_type": "text"
      },
      "source": [
        "<a href=\"https://colab.research.google.com/github/GoTudering/Deep_Learning_Study/blob/main/Cross_Validation.ipynb\" target=\"_parent\"><img src=\"https://colab.research.google.com/assets/colab-badge.svg\" alt=\"Open In Colab\"/></a>"
      ]
    },
    {
      "cell_type": "code",
      "metadata": {
        "id": "6cK0ivYGv-vL"
      },
      "source": [
        "import pandas as pd\n",
        "wine = pd.read_csv('https://bit.ly/wine_csv_data')"
      ],
      "execution_count": 1,
      "outputs": []
    },
    {
      "cell_type": "code",
      "metadata": {
        "colab": {
          "base_uri": "https://localhost:8080/"
        },
        "id": "t_RuyumtwiEo",
        "outputId": "c78fc65e-fb2c-4bb7-a73b-b28b8e210f1b"
      },
      "source": [
        "print(wine.head())"
      ],
      "execution_count": 2,
      "outputs": [
        {
          "output_type": "stream",
          "name": "stdout",
          "text": [
            "   alcohol  sugar    pH  class\n",
            "0      9.4    1.9  3.51    0.0\n",
            "1      9.8    2.6  3.20    0.0\n",
            "2      9.8    2.3  3.26    0.0\n",
            "3      9.8    1.9  3.16    0.0\n",
            "4      9.4    1.9  3.51    0.0\n"
          ]
        }
      ]
    },
    {
      "cell_type": "code",
      "metadata": {
        "id": "tjuCnJ5dwtL7"
      },
      "source": [
        "data=wine[['alcohol','sugar','pH']].to_numpy()\n",
        "target=wine[['class']].to_numpy()"
      ],
      "execution_count": 3,
      "outputs": []
    },
    {
      "cell_type": "code",
      "metadata": {
        "id": "3jRi6mrIw8-z"
      },
      "source": [
        "from sklearn.model_selection import train_test_split\n",
        "train_input, test_input, train_target, test_target = train_test_split(data,target,test_size=0.2,random_state=42)"
      ],
      "execution_count": 4,
      "outputs": []
    },
    {
      "cell_type": "code",
      "metadata": {
        "id": "RUA49TyCxSgL"
      },
      "source": [
        "sub_input, val_input, sub_target, val_target = train_test_split(train_input, train_target,test_size=0.2,random_state=42)"
      ],
      "execution_count": 5,
      "outputs": []
    },
    {
      "cell_type": "code",
      "metadata": {
        "colab": {
          "base_uri": "https://localhost:8080/"
        },
        "id": "BAUvxguOxehr",
        "outputId": "aa292560-3c65-4d4a-ef27-8f64d8d13f66"
      },
      "source": [
        "print(sub_input.shape,val_input.shape)"
      ],
      "execution_count": 6,
      "outputs": [
        {
          "output_type": "stream",
          "name": "stdout",
          "text": [
            "(4157, 3) (1040, 3)\n"
          ]
        }
      ]
    },
    {
      "cell_type": "code",
      "metadata": {
        "colab": {
          "base_uri": "https://localhost:8080/"
        },
        "id": "bJqSX34exki8",
        "outputId": "73ab5f05-bfca-43c9-f752-bf739afb2f73"
      },
      "source": [
        "from sklearn.tree import DecisionTreeClassifier\n",
        "dt = DecisionTreeClassifier()\n",
        "dt.fit(sub_input,sub_target)\n",
        "print(dt.score(sub_input,sub_target))\n",
        "print(dt.score(val_input,val_target))"
      ],
      "execution_count": 7,
      "outputs": [
        {
          "output_type": "stream",
          "name": "stdout",
          "text": [
            "0.9971133028626413\n",
            "0.8596153846153847\n"
          ]
        }
      ]
    },
    {
      "cell_type": "code",
      "metadata": {
        "colab": {
          "base_uri": "https://localhost:8080/"
        },
        "id": "MU_h6j20yFuE",
        "outputId": "9d5f6db6-c22d-4a4f-b44b-9be6b8a8a2ad"
      },
      "source": [
        "#교차 검증 cross validation\n",
        "#데이터가 많을 수록 좋은데 검증 세트로 떼어 놓으면 검증 점수가 들쭉날쭉하고 불안정할 듯\n",
        "#교차 검증은 검증 세트를 떼어 내어 평가하는 과정을 여러 번 반복하여 그 점수의 평균을 구함\n",
        "#k-폴드 교차 검증(k-fold cross validation)은 k 부분으로 나누어 k번 모델 평가하는 것임\n",
        "#cross_validate()를 사용하면 됨\n",
        "from sklearn.model_selection import cross_validate\n",
        "scores = cross_validate(dt,train_input,train_target)\n",
        "print(scores)"
      ],
      "execution_count": 9,
      "outputs": [
        {
          "output_type": "stream",
          "name": "stdout",
          "text": [
            "{'fit_time': array([0.0080235 , 0.006212  , 0.00626421, 0.00622106, 0.00593662]), 'score_time': array([0.00083876, 0.00065613, 0.00064969, 0.00063109, 0.00060201]), 'test_score': array([0.87115385, 0.85192308, 0.87295476, 0.85274302, 0.83830606])}\n"
          ]
        }
      ]
    },
    {
      "cell_type": "code",
      "metadata": {
        "colab": {
          "base_uri": "https://localhost:8080/"
        },
        "id": "SQYXR9a_zGWb",
        "outputId": "fcad2b08-0ff7-45b7-d4d3-cf4006c499b6"
      },
      "source": [
        "#이 함수는 fit_time, score_time, test_score 키를 가진 딕셔너리를 반환하는데 처음 2개의 키는 각각 모델을 훈련하는 시간과 검증하는 시간을 의미\n",
        "#cross_validate()함수는 기본적으로 5-폴드 교차 검증을 수행\n",
        "#cv 매개변수에서 폴드 수를 바꿀 수 있음\n",
        "import numpy as np\n",
        "print(np.mean(scores['test_score']))"
      ],
      "execution_count": 10,
      "outputs": [
        {
          "output_type": "stream",
          "name": "stdout",
          "text": [
            "0.8574161545865107\n"
          ]
        }
      ]
    },
    {
      "cell_type": "code",
      "metadata": {
        "colab": {
          "base_uri": "https://localhost:8080/"
        },
        "id": "u7Bow3Olznhr",
        "outputId": "6a3b3e97-aa11-46c4-ff9e-3e61a95d2c10"
      },
      "source": [
        "#cross_validate()함수는 훈련 세트를 섞지 않음 그렇기에 분할기splitter를 지정해야함\n",
        "#cross_validate()함수는 기본적으로 회귀 모델일 경우 KFold 분할기를 가용하고 분류 모델일 경우 타깃 클래스를 골고루 나누기 위해 StratifiedKFold를 사용함\n",
        "from sklearn.model_selection import StratifiedKFold\n",
        "scores = cross_validate(dt,train_input,train_target,cv=StratifiedKFold())#기본적으로 StratifiedKFold가 지정되어있음\n",
        "print(np.mean(scores['test_score']))"
      ],
      "execution_count": 14,
      "outputs": [
        {
          "output_type": "stream",
          "name": "stdout",
          "text": [
            "0.85607018582957\n"
          ]
        }
      ]
    },
    {
      "cell_type": "code",
      "metadata": {
        "colab": {
          "base_uri": "https://localhost:8080/"
        },
        "id": "MbBWodOP1tO7",
        "outputId": "206b5034-5276-4fab-8e0e-0879803c8847"
      },
      "source": [
        "#10-폴드 교차 검증을 하려면\n",
        "splitter = StratifiedKFold(n_splits=10,shuffle=True,random_state=42)\n",
        "scores = cross_validate(dt,train_input,train_target,cv=splitter)\n",
        "print(np.mean(scores['test_score']))"
      ],
      "execution_count": 15,
      "outputs": [
        {
          "output_type": "stream",
          "name": "stdout",
          "text": [
            "0.8583848377056471\n"
          ]
        }
      ]
    },
    {
      "cell_type": "code",
      "metadata": {
        "id": "FtO7mG-Y2c5r"
      },
      "source": [
        "#하이퍼파라미터 튜닝\n",
        "\n",
        "#그리그 서치 Grid Search를 이용하면 하이퍼파라미터 탐색과 교차 검증을 한 번에 수행하여 하이퍼파라이터 튜닝을 할 수 있음\n",
        "from sklearn.model_selection import GridSearchCV\n",
        "params={'min_impurity_decrease':[0.0001,0.0002,0.0003,0.0004,0.0005]}"
      ],
      "execution_count": 16,
      "outputs": []
    },
    {
      "cell_type": "code",
      "metadata": {
        "id": "bucRTxcR5GbJ"
      },
      "source": [
        "gs=GridSearchCV(DecisionTreeClassifier(random_state=42),params,n_jobs=-1)"
      ],
      "execution_count": 17,
      "outputs": []
    },
    {
      "cell_type": "code",
      "metadata": {
        "colab": {
          "base_uri": "https://localhost:8080/"
        },
        "id": "iLqUpTep5QQC",
        "outputId": "958a12c5-0e0d-40bc-cb2f-c97dc3f26ef5"
      },
      "source": [
        "gs.fit(train_input,train_target)"
      ],
      "execution_count": 18,
      "outputs": [
        {
          "output_type": "execute_result",
          "data": {
            "text/plain": [
              "GridSearchCV(cv=None, error_score=nan,\n",
              "             estimator=DecisionTreeClassifier(ccp_alpha=0.0, class_weight=None,\n",
              "                                              criterion='gini', max_depth=None,\n",
              "                                              max_features=None,\n",
              "                                              max_leaf_nodes=None,\n",
              "                                              min_impurity_decrease=0.0,\n",
              "                                              min_impurity_split=None,\n",
              "                                              min_samples_leaf=1,\n",
              "                                              min_samples_split=2,\n",
              "                                              min_weight_fraction_leaf=0.0,\n",
              "                                              presort='deprecated',\n",
              "                                              random_state=42,\n",
              "                                              splitter='best'),\n",
              "             iid='deprecated', n_jobs=-1,\n",
              "             param_grid={'min_impurity_decrease': [0.0001, 0.0002, 0.0003,\n",
              "                                                   0.0004, 0.0005]},\n",
              "             pre_dispatch='2*n_jobs', refit=True, return_train_score=False,\n",
              "             scoring=None, verbose=0)"
            ]
          },
          "metadata": {},
          "execution_count": 18
        }
      ]
    },
    {
      "cell_type": "code",
      "metadata": {
        "colab": {
          "base_uri": "https://localhost:8080/"
        },
        "id": "OJ0vhSEf5fBK",
        "outputId": "b227b623-6cd0-422d-caab-8908c8fbc328"
      },
      "source": [
        "#검증 점수가 가장 높은 파라미터로 훈련한 모델은 gs객체의 best_estimator_ 속성에 저장되어있음\n",
        "dt= gs.best_estimator_\n",
        "print(dt.score(train_input,train_target))"
      ],
      "execution_count": 19,
      "outputs": [
        {
          "output_type": "stream",
          "name": "stdout",
          "text": [
            "0.9615162593804117\n"
          ]
        }
      ]
    },
    {
      "cell_type": "code",
      "metadata": {
        "colab": {
          "base_uri": "https://localhost:8080/"
        },
        "id": "K9q3e9Lb5yCq",
        "outputId": "ae94e88d-4356-494b-e2c9-5a820c25c826"
      },
      "source": [
        "#그리드 서치로 찾은 매개변수는 best_params_속성에 저장되어 있음\n",
        "print(gs.best_params_)"
      ],
      "execution_count": 21,
      "outputs": [
        {
          "output_type": "stream",
          "name": "stdout",
          "text": [
            "{'min_impurity_decrease': 0.0001}\n"
          ]
        }
      ]
    },
    {
      "cell_type": "code",
      "metadata": {
        "colab": {
          "base_uri": "https://localhost:8080/"
        },
        "id": "lIwdUcHv57fx",
        "outputId": "dd1266ad-7f1a-4866-9d8c-ce4dcbe27f8f"
      },
      "source": [
        "#각 매개변수에서 수행한 교차 검증의 평균 점수는 cv_result_속성의 'mean_test_score'키에 저장되어있음\n",
        "print(gs.cv_results_['mean_test_score'])"
      ],
      "execution_count": 22,
      "outputs": [
        {
          "output_type": "stream",
          "name": "stdout",
          "text": [
            "[0.86819297 0.86453617 0.86492226 0.86780891 0.86761605]\n"
          ]
        }
      ]
    },
    {
      "cell_type": "code",
      "metadata": {
        "colab": {
          "base_uri": "https://localhost:8080/"
        },
        "id": "dwH7sv9Y6SQq",
        "outputId": "b5f50c79-ebb4-49f1-d00f-ed107e7a2b97"
      },
      "source": [
        "best_index=np.argmax(gs.cv_results_['mean_test_score'])\n",
        "print(gs.cv_results_['params'][best_index])"
      ],
      "execution_count": 23,
      "outputs": [
        {
          "output_type": "stream",
          "name": "stdout",
          "text": [
            "{'min_impurity_decrease': 0.0001}\n"
          ]
        }
      ]
    },
    {
      "cell_type": "code",
      "metadata": {
        "id": "IqK4hLEj6pyp"
      },
      "source": [
        "#조금 더 복잡한 매개변수 조합을 탐색해보자\n",
        "#결정 트리에서 min_impurity_decrease는 노드를 분할하기 위한 불순도 감소 최소량을 지정함\n",
        "#여기에 max_depth로 트리의 깊이를 제한하고 min_sample_split으로 노드를 나누기 위한 최소 샘플 수를 볼라봄\n",
        "params = {'min_impurity_decrease':np.arange(0.0001,0.001,0.0001),\n",
        "          'max_depth':range(5,20,1),\n",
        "          'min_samples_split':range(2,100,10)}"
      ],
      "execution_count": 26,
      "outputs": []
    },
    {
      "cell_type": "code",
      "metadata": {
        "colab": {
          "base_uri": "https://localhost:8080/"
        },
        "id": "ucho3GIX9s-Z",
        "outputId": "ee9c64e3-c2b8-4558-9fe4-00ca99824580"
      },
      "source": [
        "gs=GridSearchCV(DecisionTreeClassifier(random_state=42),params,n_jobs=-1)\n",
        "gs.fit(train_input,train_target)"
      ],
      "execution_count": 27,
      "outputs": [
        {
          "output_type": "execute_result",
          "data": {
            "text/plain": [
              "GridSearchCV(cv=None, error_score=nan,\n",
              "             estimator=DecisionTreeClassifier(ccp_alpha=0.0, class_weight=None,\n",
              "                                              criterion='gini', max_depth=None,\n",
              "                                              max_features=None,\n",
              "                                              max_leaf_nodes=None,\n",
              "                                              min_impurity_decrease=0.0,\n",
              "                                              min_impurity_split=None,\n",
              "                                              min_samples_leaf=1,\n",
              "                                              min_samples_split=2,\n",
              "                                              min_weight_fraction_leaf=0.0,\n",
              "                                              presort='deprecated',\n",
              "                                              random_state=42,\n",
              "                                              splitter='best'),\n",
              "             iid='deprecated', n_jobs=-1,\n",
              "             param_grid={'max_depth': range(5, 20),\n",
              "                         'min_impurity_decrease': array([0.0001, 0.0002, 0.0003, 0.0004, 0.0005, 0.0006, 0.0007, 0.0008,\n",
              "       0.0009]),\n",
              "                         'min_samples_split': range(2, 100, 10)},\n",
              "             pre_dispatch='2*n_jobs', refit=True, return_train_score=False,\n",
              "             scoring=None, verbose=0)"
            ]
          },
          "metadata": {},
          "execution_count": 27
        }
      ]
    },
    {
      "cell_type": "code",
      "metadata": {
        "colab": {
          "base_uri": "https://localhost:8080/"
        },
        "id": "e1DeMnlB-A8x",
        "outputId": "501ba740-b0b5-4651-f965-a6f53e519a6b"
      },
      "source": [
        "print(gs.best_params_)"
      ],
      "execution_count": 28,
      "outputs": [
        {
          "output_type": "stream",
          "name": "stdout",
          "text": [
            "{'max_depth': 14, 'min_impurity_decrease': 0.0004, 'min_samples_split': 12}\n"
          ]
        }
      ]
    },
    {
      "cell_type": "code",
      "metadata": {
        "colab": {
          "base_uri": "https://localhost:8080/"
        },
        "id": "x78_aOyP-ko5",
        "outputId": "f1b77d6c-64f8-444b-e734-04d5fd4e89ef"
      },
      "source": [
        "print(np.mean(gs.cv_results_['mean_test_score']))"
      ],
      "execution_count": 30,
      "outputs": [
        {
          "output_type": "stream",
          "name": "stdout",
          "text": [
            "0.862301492093263\n"
          ]
        }
      ]
    },
    {
      "cell_type": "code",
      "metadata": {
        "colab": {
          "base_uri": "https://localhost:8080/"
        },
        "id": "RQ2CgKA1-vIR",
        "outputId": "e2969247-bf7c-4839-e3fe-733f287f27e4"
      },
      "source": [
        "#결국 이렇게 구간 나눠서 그리드 서치하는 것도 내가 그 구간 크기를 정하는거임\n",
        "\n",
        "#랜덤 서치 Random Search\n",
        "from scipy.stats import uniform, randint #두 클래스 모두 주어진 범위에서 고르게 값을 뽑음 이를 균등 분포에서 샘플링한다 라고 말함\n",
        "#randint는 정숫값을 뽑고 uniform은 실숫값을 뽑음\n",
        "rgen = randint(0,10)\n",
        "rgen.rvs(10)"
      ],
      "execution_count": 31,
      "outputs": [
        {
          "output_type": "execute_result",
          "data": {
            "text/plain": [
              "array([2, 2, 2, 8, 8, 4, 9, 1, 2, 8])"
            ]
          },
          "metadata": {},
          "execution_count": 31
        }
      ]
    },
    {
      "cell_type": "code",
      "metadata": {
        "colab": {
          "base_uri": "https://localhost:8080/"
        },
        "id": "NIze8nwl_nOi",
        "outputId": "39a9d93d-f66d-4fad-a4f4-69b106662d03"
      },
      "source": [
        "np.unique(rgen.rvs(1000),return_counts=True)"
      ],
      "execution_count": 32,
      "outputs": [
        {
          "output_type": "execute_result",
          "data": {
            "text/plain": [
              "(array([0, 1, 2, 3, 4, 5, 6, 7, 8, 9]),\n",
              " array([ 99, 110, 105, 102, 101,  93, 101,  97,  94,  98]))"
            ]
          },
          "metadata": {},
          "execution_count": 32
        }
      ]
    },
    {
      "cell_type": "code",
      "metadata": {
        "colab": {
          "base_uri": "https://localhost:8080/"
        },
        "id": "OaLgBn8c_xC4",
        "outputId": "0db84ac6-5b82-48d3-bf49-fc8e18774478"
      },
      "source": [
        "ugen = uniform(0,1)\n",
        "ugen.rvs(10)"
      ],
      "execution_count": 33,
      "outputs": [
        {
          "output_type": "execute_result",
          "data": {
            "text/plain": [
              "array([0.98742863, 0.64527914, 0.26475914, 0.64594257, 0.54637927,\n",
              "       0.10166111, 0.65547512, 0.56465882, 0.9139981 , 0.24022808])"
            ]
          },
          "metadata": {},
          "execution_count": 33
        }
      ]
    },
    {
      "cell_type": "code",
      "metadata": {
        "id": "eBlRaqoN_3Kh"
      },
      "source": [
        "params = {'min_impurity_decrease':uniform(0.0001,0.001),\n",
        "          'max_depth':randint(20,50),\n",
        "          'min_samples_split':randint(2,25),\n",
        "          'min_samples_leaf':randint(1,25)}"
      ],
      "execution_count": 34,
      "outputs": []
    },
    {
      "cell_type": "code",
      "metadata": {
        "colab": {
          "base_uri": "https://localhost:8080/"
        },
        "id": "q4EJ0D53AM1Z",
        "outputId": "f0fd5e69-b0a7-46f9-9081-21e234fcbb52"
      },
      "source": [
        "#샘플링 횟수는 사이킷런의 랜덤 서치 클래스인 RandomizedSearchCV의 n_iter 매개변수에 저장함\n",
        "from sklearn.model_selection import RandomizedSearchCV\n",
        "gs=RandomizedSearchCV(DecisionTreeClassifier(random_state=42),params,\n",
        "                      n_iter=100,n_jobs=-1,random_state=42)\n",
        "gs.fit(train_input,train_target)"
      ],
      "execution_count": 35,
      "outputs": [
        {
          "output_type": "execute_result",
          "data": {
            "text/plain": [
              "RandomizedSearchCV(cv=None, error_score=nan,\n",
              "                   estimator=DecisionTreeClassifier(ccp_alpha=0.0,\n",
              "                                                    class_weight=None,\n",
              "                                                    criterion='gini',\n",
              "                                                    max_depth=None,\n",
              "                                                    max_features=None,\n",
              "                                                    max_leaf_nodes=None,\n",
              "                                                    min_impurity_decrease=0.0,\n",
              "                                                    min_impurity_split=None,\n",
              "                                                    min_samples_leaf=1,\n",
              "                                                    min_samples_split=2,\n",
              "                                                    min_weight_fraction_leaf=0.0,\n",
              "                                                    presort='deprecated',\n",
              "                                                    random_state=42,\n",
              "                                                    splitter='best'),...\n",
              "                                        'min_impurity_decrease': <scipy.stats._distn_infrastructure.rv_frozen object at 0x7fe303191950>,\n",
              "                                        'min_samples_leaf': <scipy.stats._distn_infrastructure.rv_frozen object at 0x7fe303191990>,\n",
              "                                        'min_samples_split': <scipy.stats._distn_infrastructure.rv_frozen object at 0x7fe303191450>},\n",
              "                   pre_dispatch='2*n_jobs', random_state=42, refit=True,\n",
              "                   return_train_score=False, scoring=None, verbose=0)"
            ]
          },
          "metadata": {},
          "execution_count": 35
        }
      ]
    },
    {
      "cell_type": "code",
      "metadata": {
        "colab": {
          "base_uri": "https://localhost:8080/"
        },
        "id": "vd48_WhRAzLJ",
        "outputId": "6ce413c0-cc0c-4ad3-abab-eea2785f0df5"
      },
      "source": [
        "print(gs.best_params_)"
      ],
      "execution_count": 36,
      "outputs": [
        {
          "output_type": "stream",
          "name": "stdout",
          "text": [
            "{'max_depth': 39, 'min_impurity_decrease': 0.00034102546602601173, 'min_samples_leaf': 7, 'min_samples_split': 13}\n"
          ]
        }
      ]
    },
    {
      "cell_type": "code",
      "metadata": {
        "colab": {
          "base_uri": "https://localhost:8080/"
        },
        "id": "Y8epUjWHA7AY",
        "outputId": "f1832ed5-043c-4c86-d9d3-d4c33d30e98d"
      },
      "source": [
        "print(np.max(gs.cv_results_['mean_test_score']))"
      ],
      "execution_count": 38,
      "outputs": [
        {
          "output_type": "stream",
          "name": "stdout",
          "text": [
            "0.8695428296438884\n"
          ]
        }
      ]
    },
    {
      "cell_type": "code",
      "metadata": {
        "colab": {
          "base_uri": "https://localhost:8080/"
        },
        "id": "8ix0nNq9BBm5",
        "outputId": "85f72bb1-3350-43a5-8bab-d33df6d89ccd"
      },
      "source": [
        "dt = gs.best_estimator_\n",
        "print(dt.score(test_input,test_target))"
      ],
      "execution_count": 39,
      "outputs": [
        {
          "output_type": "stream",
          "name": "stdout",
          "text": [
            "0.86\n"
          ]
        }
      ]
    },
    {
      "cell_type": "code",
      "metadata": {
        "id": "bfRjbJEBBP85"
      },
      "source": [
        ""
      ],
      "execution_count": null,
      "outputs": []
    }
  ]
}