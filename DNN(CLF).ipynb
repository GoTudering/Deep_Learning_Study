{
  "nbformat": 4,
  "nbformat_minor": 0,
  "metadata": {
    "colab": {
      "name": "DNN(CLF).ipynb",
      "provenance": [],
      "collapsed_sections": [],
      "authorship_tag": "ABX9TyMPemWmUR8qF1VPL80JD7+P",
      "include_colab_link": true
    },
    "kernelspec": {
      "name": "python3",
      "display_name": "Python 3"
    },
    "language_info": {
      "name": "python"
    }
  },
  "cells": [
    {
      "cell_type": "markdown",
      "metadata": {
        "id": "view-in-github",
        "colab_type": "text"
      },
      "source": [
        "<a href=\"https://colab.research.google.com/github/GoTudering/Deep_Learning_Study/blob/main/DNN(CLF).ipynb\" target=\"_parent\"><img src=\"https://colab.research.google.com/assets/colab-badge.svg\" alt=\"Open In Colab\"/></a>"
      ]
    },
    {
      "cell_type": "code",
      "metadata": {
        "id": "X2wGoRPPfceQ"
      },
      "source": [
        "import numpy as np\n",
        "import matplotlib.pyplot as plt"
      ],
      "execution_count": null,
      "outputs": []
    },
    {
      "cell_type": "code",
      "metadata": {
        "id": "0ndCUvH9f_j8"
      },
      "source": [
        "a=0\n",
        "b=0.1\n",
        "mu=0.1\n",
        "E=0"
      ],
      "execution_count": 56,
      "outputs": []
    },
    {
      "cell_type": "code",
      "metadata": {
        "id": "oCwb-aCFgEsm"
      },
      "source": [
        "x=np.array([[-1],[0],[1],[2]])\n",
        "y=np.array([[1],[2],[2],[3]])"
      ],
      "execution_count": 57,
      "outputs": []
    },
    {
      "cell_type": "code",
      "metadata": {
        "id": "orqQl3XYgcQ1"
      },
      "source": [
        "while(1):\n",
        "  f_x=np.dot(x,a)+b\n",
        "  dout=f_x-y\n",
        "  da=np.dot(x.T,dout)\n",
        "  db=np.sum(dout,axis=0)\n",
        "  a-=mu*da\n",
        "  b-=mu*db\n",
        "  if (E==np.dot(dout.T,dout)):\n",
        "    break\n",
        "  else:\n",
        "    E=np.dot(dout.T,dout)\n",
        "  "
      ],
      "execution_count": 58,
      "outputs": []
    },
    {
      "cell_type": "code",
      "metadata": {
        "colab": {
          "base_uri": "https://localhost:8080/"
        },
        "id": "wMlWQVOwhNzd",
        "outputId": "d4f7d88a-1c7c-49a2-d8f1-dbad3a19fa3e"
      },
      "source": [
        "print(E)"
      ],
      "execution_count": 59,
      "outputs": [
        {
          "output_type": "stream",
          "name": "stdout",
          "text": [
            "[[0.2]]\n"
          ]
        }
      ]
    },
    {
      "cell_type": "code",
      "metadata": {
        "id": "xh9YFRkVhRtR"
      },
      "source": [
        "w=np.arange(-2,3,0.1)\n",
        "v=w*a+b\n",
        "w=w.reshape(50,1)\n",
        "v=v.reshape(50,1)"
      ],
      "execution_count": 60,
      "outputs": []
    },
    {
      "cell_type": "code",
      "metadata": {
        "colab": {
          "base_uri": "https://localhost:8080/",
          "height": 265
        },
        "id": "gZGvo6WljKxV",
        "outputId": "3959aef1-ddba-4559-fd8c-a572a631cd7b"
      },
      "source": [
        "plt.plot(w,v)\n",
        "plt.scatter(x,y,c='red')\n",
        "\n",
        "plt.show()"
      ],
      "execution_count": 61,
      "outputs": [
        {
          "output_type": "display_data",
          "data": {
            "image/png": "[encoded data removed]",
            "text/plain": [
              "<Figure size 432x288 with 1 Axes>"
            ]
          },
          "metadata": {
            "needs_background": "light"
          }
        }
      ]
    },
    {
      "cell_type": "code",
      "metadata": {
        "id": "66hWcVGxjY4F"
      },
      "source": [
        ""
      ],
      "execution_count": null,
      "outputs": []
    }
  ]
}