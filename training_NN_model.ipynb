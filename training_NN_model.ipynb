{
  "nbformat": 4,
  "nbformat_minor": 0,
  "metadata": {
    "colab": {
      "name": "training_NN_model.ipynb",
      "provenance": [],
      "authorship_tag": "ABX9TyN8DmIpVBuyS6ChpfoHLcZf",
      "include_colab_link": true
    },
    "kernelspec": {
      "name": "python3",
      "display_name": "Python 3"
    },
    "language_info": {
      "name": "python"
    }
  },
  "cells": [
    {
      "cell_type": "markdown",
      "metadata": {
        "id": "view-in-github",
        "colab_type": "text"
      },
      "source": [
        "<a href=\"https://colab.research.google.com/github/GoTudering/Deep_Learning_Study/blob/main/training_NN_model.ipynb\" target=\"_parent\"><img src=\"https://colab.research.google.com/assets/colab-badge.svg\" alt=\"Open In Colab\"/></a>"
      ]
    },
    {
      "cell_type": "code",
      "metadata": {
        "colab": {
          "base_uri": "https://localhost:8080/"
        },
        "id": "1svZN8IAJVs2",
        "outputId": "183dae14-11e8-4dee-87ff-c525a2529b90"
      },
      "source": [
        "from tensorflow import keras\n",
        "from sklearn.model_selection import train_test_split\n",
        "(train_input,train_target),(test_input,test_target)=\\\n",
        "  keras.datasets.fashion_mnist.load_data()\n",
        "train_scaled=train_input/255.0\n",
        "train_scaled, val_scaled, train_target, val_target=train_test_split(train_scaled,train_target,test_size=0.2,random_state=42)"
      ],
      "execution_count": 1,
      "outputs": [
        {
          "output_type": "stream",
          "name": "stdout",
          "text": [
            "Downloading data from https://storage.googleapis.com/tensorflow/tf-keras-datasets/train-labels-idx1-ubyte.gz\n",
            "32768/29515 [=================================] - 0s 0us/step\n",
            "40960/29515 [=========================================] - 0s 0us/step\n",
            "Downloading data from https://storage.googleapis.com/tensorflow/tf-keras-datasets/train-images-idx3-ubyte.gz\n",
            "26427392/26421880 [==============================] - 0s 0us/step\n",
            "26435584/26421880 [==============================] - 0s 0us/step\n",
            "Downloading data from https://storage.googleapis.com/tensorflow/tf-keras-datasets/t10k-labels-idx1-ubyte.gz\n",
            "16384/5148 [===============================================================================================] - 0s 0us/step\n",
            "Downloading data from https://storage.googleapis.com/tensorflow/tf-keras-datasets/t10k-images-idx3-ubyte.gz\n",
            "4423680/4422102 [==============================] - 0s 0us/step\n",
            "4431872/4422102 [==============================] - 0s 0us/step\n"
          ]
        }
      ]
    },
    {
      "cell_type": "code",
      "metadata": {
        "id": "iuli6nakLLIP"
      },
      "source": [
        "#model_fn함수에 a_layer매개변수로 케라스 층을 추가하면 은닉층 뒤에 또 하나의 층을 추가하는 것임\n",
        "def model_fn(a_layer=None):\n",
        "    model = keras.Sequential()\n",
        "    model.add(keras.layers.Flatten(input_shape=(28,28)))\n",
        "    model.add(keras.layers.Dense(100,activation='relu'))\n",
        "    if a_layer:\n",
        "      model.add(a_layer)\n",
        "    model.add(keras.layers.Dense(10,activation='softmax'))\n",
        "    return model"
      ],
      "execution_count": 9,
      "outputs": []
    },
    {
      "cell_type": "code",
      "metadata": {
        "colab": {
          "base_uri": "https://localhost:8080/"
        },
        "id": "iQ2lwZ__MKX1",
        "outputId": "73347153-d4bf-460a-ef54-5b472545ba6f"
      },
      "source": [
        "model = model_fn()\n",
        "model.summary()"
      ],
      "execution_count": 10,
      "outputs": [
        {
          "output_type": "stream",
          "name": "stdout",
          "text": [
            "Model: \"sequential_3\"\n",
            "_________________________________________________________________\n",
            "Layer (type)                 Output Shape              Param #   \n",
            "=================================================================\n",
            "flatten_3 (Flatten)          (None, 784)               0         \n",
            "_________________________________________________________________\n",
            "dense (Dense)                (None, 100)               78500     \n",
            "_________________________________________________________________\n",
            "dense_1 (Dense)              (None, 10)                1010      \n",
            "=================================================================\n",
            "Total params: 79,510\n",
            "Trainable params: 79,510\n",
            "Non-trainable params: 0\n",
            "_________________________________________________________________\n"
          ]
        }
      ]
    },
    {
      "cell_type": "code",
      "metadata": {
        "id": "e_SWVkjgM3Mi"
      },
      "source": [
        "#fit() 메서드의 경과를 history 변수에 담아봄\n",
        "model.compile(loss='sparse_categorical_crossentropy',metrics='accuracy')\n",
        "history=model.fit(train_scaled,train_target,epochs=5,verbose=0)#verbose 매개변수는 훈련 과정 출력을 조절함\n",
        "#기본값 1로 에포크마다 진행 막대와 함께 손실 등의 지표가 출력됨\n",
        "#verbose 2면 진행 막대를 빼고 출력\n",
        "#verbose 0은 훈련 과정을 나타내지 않음"
      ],
      "execution_count": 12,
      "outputs": []
    },
    {
      "cell_type": "code",
      "metadata": {
        "colab": {
          "base_uri": "https://localhost:8080/"
        },
        "id": "QiEjopfOOm8Y",
        "outputId": "b56ca10a-73c7-442d-d2c7-772abc2175be"
      },
      "source": [
        "#history 객체에는 훈련 측정값이 담겨 있는 history 딕셔너리가 들어있음\n",
        "print(history.history.keys())\n",
        "#손실은 기본적으로 에포크마다 손실을 계산하기에 들어있음\n",
        "#정확도는 compile할 때 metrics 매개변수에 'accuracy'를 추가했기 때문에 들어있음"
      ],
      "execution_count": 14,
      "outputs": [
        {
          "output_type": "stream",
          "name": "stdout",
          "text": [
            "dict_keys(['loss', 'accuracy'])\n"
          ]
        }
      ]
    },
    {
      "cell_type": "code",
      "metadata": {
        "colab": {
          "base_uri": "https://localhost:8080/",
          "height": 279
        },
        "id": "qXsur5doO3XJ",
        "outputId": "ed2186aa-19f8-456e-d98d-62648880eb8a"
      },
      "source": [
        "#history 속성에 포함된 손실과 정확도는 에포크마다 계산한 값이 순서대로 나열된 단순한 리스트임\n",
        "\n",
        "import matplotlib.pyplot as plt\n",
        "plt.plot(history.history['loss'])\n",
        "plt.xlabel('epoch')\n",
        "plt.ylabel('loss')\n",
        "plt.show()"
      ],
      "execution_count": 16,
      "outputs": [
        {
          "output_type": "display_data",
          "data": {
            "image/png": "[encoded data removed]",
            "text/plain": [
              "<Figure size 432x288 with 1 Axes>"
            ]
          },
          "metadata": {
            "needs_background": "light"
          }
        }
      ]
    },
    {
      "cell_type": "code",
      "metadata": {
        "colab": {
          "base_uri": "https://localhost:8080/",
          "height": 279
        },
        "id": "XKY6eMTtPeQr",
        "outputId": "02d84654-ebe9-453c-e3a5-3f7a94e310a3"
      },
      "source": [
        "plt.plot(history.history['accuracy'])\n",
        "plt.xlabel('epoch')\n",
        "plt.ylabel('accuracy')\n",
        "plt.show()"
      ],
      "execution_count": 17,
      "outputs": [
        {
          "output_type": "display_data",
          "data": {
            "image/png": "[encoded data removed]",
            "text/plain": [
              "<Figure size 432x288 with 1 Axes>"
            ]
          },
          "metadata": {
            "needs_background": "light"
          }
        }
      ]
    },
    {
      "cell_type": "code",
      "metadata": {
        "colab": {
          "base_uri": "https://localhost:8080/",
          "height": 279
        },
        "id": "7BsY85oIP3ox",
        "outputId": "38c7bc86-b0af-4964-9778-0bd85d8bb5f0"
      },
      "source": [
        "#epoch가 커질 수록 손실이 줄고 정확도가 올라가니 epoch를 늘려볼까?\n",
        "model = model_fn()\n",
        "model.compile(loss='sparse_categorical_crossentropy',metrics='accuracy')\n",
        "history=model.fit(train_scaled,train_target,epochs=20,verbose=0)\n",
        "plt.plot(history.history['loss'])\n",
        "plt.xlabel('epoch')\n",
        "plt.ylabel('loss')\n",
        "plt.show()"
      ],
      "execution_count": 18,
      "outputs": [
        {
          "output_type": "display_data",
          "data": {
            "image/png": "[encoded data removed]",
            "text/plain": [
              "<Figure size 432x288 with 1 Axes>"
            ]
          },
          "metadata": {
            "needs_background": "light"
          }
        }
      ]
    },
    {
      "cell_type": "code",
      "metadata": {
        "id": "_SOzGv24QJkh"
      },
      "source": [
        "#손실은 감소했지만 이게 더 나은 모델이라 할 수 있을까?\n",
        "#과대적합일 수도 있음\n",
        "#훈련 세트 뿐만 아니라 검증 세트 점수 또한 필요함\n",
        "\n",
        "#epoch마다 검증 손실을 계산하기 위해 케라스 모델의 fit()메서드에 검증 데이터를 전달할 수 있음\n",
        "#validation_data 매개변수에 검증에 사용할 입력과 타깃값을 튜플로 만들어 전달해야함\n",
        "model = model_fn()\n",
        "model.compile(loss='sparse_categorical_crossentropy',metrics='accuracy')\n",
        "history=model.fit(train_scaled,train_target,epochs=20,verbose=0,validation_data=(val_scaled,val_target))"
      ],
      "execution_count": 19,
      "outputs": []
    },
    {
      "cell_type": "code",
      "metadata": {
        "colab": {
          "base_uri": "https://localhost:8080/"
        },
        "id": "pcaHg3SOR-vB",
        "outputId": "ab8f32e5-d8d4-498c-b328-bdfe61622a28"
      },
      "source": [
        "print(history.history.keys())"
      ],
      "execution_count": 20,
      "outputs": [
        {
          "output_type": "stream",
          "name": "stdout",
          "text": [
            "dict_keys(['loss', 'accuracy', 'val_loss', 'val_accuracy'])\n"
          ]
        }
      ]
    },
    {
      "cell_type": "code",
      "metadata": {
        "colab": {
          "base_uri": "https://localhost:8080/",
          "height": 279
        },
        "id": "BfoUVJCDSVLg",
        "outputId": "8850fdfb-3dc5-4c1f-e4e6-e9cec5ff1a0e"
      },
      "source": [
        "#그래프 그려서 비교\n",
        "plt.plot(history.history['loss'])\n",
        "plt.plot(history.history['val_loss'])\n",
        "plt.xlabel('epoch')\n",
        "plt.ylabel('loss')\n",
        "plt.legend(['train','val'])\n",
        "plt.show()"
      ],
      "execution_count": 22,
      "outputs": [
        {
          "output_type": "display_data",
          "data": {
            "image/png": "[encoded data removed]",
            "text/plain": [
              "<Figure size 432x288 with 1 Axes>"
            ]
          },
          "metadata": {
            "needs_background": "light"
          }
        }
      ]
    },
    {
      "cell_type": "code",
      "metadata": {
        "colab": {
          "base_uri": "https://localhost:8080/",
          "height": 279
        },
        "id": "3dhfsm8mTEfJ",
        "outputId": "0cdd6e34-062b-4e9b-f9e9-55b009a363d1"
      },
      "source": [
        "#옵티마이저 하이퍼파라미터를 조정하여 과대적합을 완화시켜보자\n",
        "\n",
        "#Adam이용\n",
        "model = model_fn()\n",
        "model.compile(optimizer='adam',loss='sparse_categorical_crossentropy',metrics='accuracy')\n",
        "history=model.fit(train_scaled,train_target,epochs=20,verbose=0,validation_data=(val_scaled,val_target))\n",
        "plt.plot(history.history['loss'])\n",
        "plt.plot(history.history['val_loss'])\n",
        "plt.xlabel('epoch')\n",
        "plt.ylabel('loss')\n",
        "plt.legend(['train','val'])\n",
        "plt.show()"
      ],
      "execution_count": 23,
      "outputs": [
        {
          "output_type": "display_data",
          "data": {
            "image/png": "[encoded data removed]",
            "text/plain": [
              "<Figure size 432x288 with 1 Axes>"
            ]
          },
          "metadata": {
            "needs_background": "light"
          }
        }
      ]
    },
    {
      "cell_type": "code",
      "metadata": {
        "colab": {
          "base_uri": "https://localhost:8080/",
          "height": 279
        },
        "id": "pWBPilmqUoeZ",
        "outputId": "7e1fca83-399b-4b63-e40e-ed51717d0a4d"
      },
      "source": [
        "#여전히 요동이 남아 있지만 전반적인 감소 추세가 이어지고 있음\n",
        "#이는 Adam 옵티마이저가 이 데이터셋에 잘 맞는다는 것을 보여줌\n",
        "#더 나은 손실 곡선을 얻으려면 학습률을 조정해서 다시 시도해 볼 수 있음\n",
        "model = model_fn()\n",
        "adam = keras.optimizers.Adam(learning_rate=0.005)\n",
        "model.compile(optimizer=adam,loss='sparse_categorical_crossentropy',metrics='accuracy')\n",
        "history=model.fit(train_scaled,train_target,epochs=20,verbose=0,validation_data=(val_scaled,val_target))\n",
        "plt.plot(history.history['loss'])\n",
        "plt.plot(history.history['val_loss'])\n",
        "plt.xlabel('epoch')\n",
        "plt.ylabel('loss')\n",
        "plt.legend(['train','val'])\n",
        "plt.show()"
      ],
      "execution_count": 25,
      "outputs": [
        {
          "output_type": "display_data",
          "data": {
            "image/png": "[encoded data removed]",
            "text/plain": [
              "<Figure size 432x288 with 1 Axes>"
            ]
          },
          "metadata": {
            "needs_background": "light"
          }
        }
      ]
    },
    {
      "cell_type": "code",
      "metadata": {
        "colab": {
          "base_uri": "https://localhost:8080/",
          "height": 279
        },
        "id": "SkWM9AisVYw5",
        "outputId": "95930bf9-5a47-49b5-9945-c6405f1a2a7f"
      },
      "source": [
        "model = model_fn()\n",
        "adam = keras.optimizers.Adam(learning_rate=0.05)\n",
        "model.compile(optimizer=adam,loss='sparse_categorical_crossentropy',metrics='accuracy')\n",
        "history=model.fit(train_scaled,train_target,epochs=20,verbose=0,validation_data=(val_scaled,val_target))\n",
        "plt.plot(history.history['loss'])\n",
        "plt.plot(history.history['val_loss'])\n",
        "plt.xlabel('epoch')\n",
        "plt.ylabel('loss')\n",
        "plt.legend(['train','val'])\n",
        "plt.show()"
      ],
      "execution_count": 26,
      "outputs": [
        {
          "output_type": "display_data",
          "data": {
            "image/png": "[encoded data removed]",
            "text/plain": [
              "<Figure size 432x288 with 1 Axes>"
            ]
          },
          "metadata": {
            "needs_background": "light"
          }
        }
      ]
    },
    {
      "cell_type": "code",
      "metadata": {
        "colab": {
          "base_uri": "https://localhost:8080/"
        },
        "id": "78PCtfqpWMhx",
        "outputId": "cad61a01-3149-4f77-a64d-4878313e1ab4"
      },
      "source": [
        "#과대적합을 막는 방법 중 드롭아웃dropout이 있음\n",
        "#이는 은닉층에 있는 일부 뉴런을 0으로 만듦\n",
        "#얼마나 많은 뉴런을 드롭할지는 하이퍼파라미터임\n",
        "model=model_fn(keras.layers.Dropout(0.3))\n",
        "model.summary()"
      ],
      "execution_count": 27,
      "outputs": [
        {
          "output_type": "stream",
          "name": "stdout",
          "text": [
            "Model: \"sequential_10\"\n",
            "_________________________________________________________________\n",
            "Layer (type)                 Output Shape              Param #   \n",
            "=================================================================\n",
            "flatten_10 (Flatten)         (None, 784)               0         \n",
            "_________________________________________________________________\n",
            "dense_14 (Dense)             (None, 100)               78500     \n",
            "_________________________________________________________________\n",
            "dropout (Dropout)            (None, 100)               0         \n",
            "_________________________________________________________________\n",
            "dense_15 (Dense)             (None, 10)                1010      \n",
            "=================================================================\n",
            "Total params: 79,510\n",
            "Trainable params: 79,510\n",
            "Non-trainable params: 0\n",
            "_________________________________________________________________\n"
          ]
        }
      ]
    },
    {
      "cell_type": "code",
      "metadata": {
        "colab": {
          "base_uri": "https://localhost:8080/",
          "height": 281
        },
        "id": "xc7Uc__XXR2I",
        "outputId": "6db9c17e-3870-4491-cbb0-8a28523babac"
      },
      "source": [
        "#훈련이 끝난 뒤에 평가나 예측을 수행할 때는 드롭아웃을 적용하지 말아야 함\n",
        "#텐서플로와 케라스는 모델을 평가와 예측에 사용할 때는 자동으로 드롭아웃을 적용하지 않음\n",
        "model.compile(optimizer='adam',loss='sparse_categorical_crossentropy',metrics='accuracy')\n",
        "history=model.fit(train_scaled,train_target,epochs=20,verbose=0,validation_data=(val_scaled,val_target))\n",
        "plt.plot(history.history['loss'])\n",
        "plt.plot(history.history['val_loss'])\n",
        "plt.xlabel('epoch')\n",
        "plt.ylabel('loss')\n",
        "plt.legend(['train','val'])\n",
        "plt.show()"
      ],
      "execution_count": 28,
      "outputs": [
        {
          "output_type": "display_data",
          "data": {
            "image/png": "[encoded data removed]",
            "text/plain": [
              "<Figure size 432x288 with 1 Axes>"
            ]
          },
          "metadata": {
            "needs_background": "light"
          }
        }
      ]
    },
    {
      "cell_type": "code",
      "metadata": {
        "id": "2uz58jA2YHqo"
      },
      "source": [
        "#epoch 10정도가 과대적합이 아님\n",
        "#epoch 10으로 다시 지정하고 모델을 훈련\n",
        "\n",
        "#모델 저장과 복원\n",
        "\n",
        "model=model_fn(keras.layers.Dropout(0.3))\n",
        "model.compile(optimizer='adam',loss='sparse_categorical_crossentropy',metrics='accuracy')\n",
        "history=model.fit(train_scaled,train_target,epochs=10,verbose=0,validation_data=(val_scaled,val_target))"
      ],
      "execution_count": 29,
      "outputs": []
    },
    {
      "cell_type": "code",
      "metadata": {
        "id": "rAMcVoIJZBMw"
      },
      "source": [
        "#훈련된 모델의 파라미터를 저장하는 메서드는 save_weights()임\n",
        "#기본적으로 이 메서드는 텐서플로의 체크포인트 포맷으로 저장하지만 파일의 확장자가 '.h5'일 경우 HDF5포맷으로 저장함\n",
        "\n",
        "model.save_weights('model-weights.h5')"
      ],
      "execution_count": 30,
      "outputs": []
    },
    {
      "cell_type": "code",
      "metadata": {
        "id": "CqeNmzdyZZHA"
      },
      "source": [
        "#모델 구조와 모델 파라미터를 함께 저장하는 save()메서드도 있음\n",
        "#기본적으로 이 메서드는 텐서플로의 SavedModel 포맷으로 저장하지만 파일의 확장자가 '.h5'일 경우 HDF5포맷으로 저장함\n",
        "model.save('model-whole.h5')"
      ],
      "execution_count": 32,
      "outputs": []
    },
    {
      "cell_type": "code",
      "metadata": {
        "colab": {
          "base_uri": "https://localhost:8080/"
        },
        "id": "feGzU19-Zstw",
        "outputId": "be8e6db6-c63a-44ea-e77a-1594520cdec7"
      },
      "source": [
        "#잘 만들어졌나?\n",
        "!ls -al *.h5"
      ],
      "execution_count": 33,
      "outputs": [
        {
          "output_type": "stream",
          "name": "stdout",
          "text": [
            "-rw-r--r-- 1 root root 332480 Oct 10 18:09 model-weights.h5\n",
            "-rw-r--r-- 1 root root 981736 Oct 10 18:11 model-whole.h5\n"
          ]
        }
      ]
    },
    {
      "cell_type": "code",
      "metadata": {
        "id": "0nKiR29SZ1BI"
      },
      "source": [
        "#두 가지 실험을 해보자\n",
        "#첫 번째 실험\n",
        "\n",
        "#훈련하지 않은 새로운 모델을 만들고 modell-weights.h5파일에서 훈련된 모델 파라미터를 읽어서 사용하자\n",
        "model=model_fn(keras.layers.Dropout(0.3))\n",
        "model.load_weights('model-weights.h5')"
      ],
      "execution_count": 35,
      "outputs": []
    },
    {
      "cell_type": "code",
      "metadata": {
        "colab": {
          "base_uri": "https://localhost:8080/"
        },
        "id": "ru1dguDybBDw",
        "outputId": "8ebb5179-e2f8-4e17-d7e5-4f6a0acbc566"
      },
      "source": [
        "#모델의 검증 정확도를 확인해야함\n",
        "#predict()을 사용할건데 다중 분류이기에 샘플마다 10개의 클래스에 대한 확률로 반환됨\n",
        "#패션 MNIST 데이터셋에서 덜어낸 검증 세트의 샘플 개수는 12000개이기 때문에 predict() 메서드는 (12000,10) 크기의 배열을 반환함\n",
        "#10개 확률 중 가장 큰 값의 인덱스를 골라 다깃 레이블과 비교하여 정확도를 계산해야함\n",
        "import numpy as np\n",
        "val_labels = np.argmax(model.predict(val_scaled),axis=-1) #argmax로 최대값을 가진 index를 받음 axis=-1은 배열의 마지막 차원을 따라 최댓값을 고름\n",
        "#이 경우는 2차원이기에 axis=0, axis=1이 있었기에 axis=-1은 마지막 차원인 axis=1을 의미\n",
        "print(np.mean(val_labels == val_target))"
      ],
      "execution_count": 37,
      "outputs": [
        {
          "output_type": "stream",
          "name": "stdout",
          "text": [
            "0.8810833333333333\n"
          ]
        }
      ]
    },
    {
      "cell_type": "code",
      "metadata": {
        "colab": {
          "base_uri": "https://localhost:8080/"
        },
        "id": "9YThxelgfXT4",
        "outputId": "8cdd6e1f-0c8d-433e-ef5b-f34b188a5feb"
      },
      "source": [
        "#두 번째 실험\n",
        "\n",
        "#아예 model-whole.h5파일에서 새로운 모델을 만들어 바로 사용\n",
        "model = keras.models.load_model('model-whole.h5')\n",
        "model.evaluate(val_scaled, val_target)"
      ],
      "execution_count": 38,
      "outputs": [
        {
          "output_type": "stream",
          "name": "stdout",
          "text": [
            "375/375 [==============================] - 1s 1ms/step - loss: 0.3321 - accuracy: 0.8811\n"
          ]
        },
        {
          "output_type": "execute_result",
          "data": {
            "text/plain": [
              "[0.33207327127456665, 0.8810833096504211]"
            ]
          },
          "metadata": {},
          "execution_count": 38
        }
      ]
    },
    {
      "cell_type": "code",
      "metadata": {
        "colab": {
          "base_uri": "https://localhost:8080/"
        },
        "id": "SDvZrZbAgpQP",
        "outputId": "457965c0-9d39-47b2-d40a-729c4edf3481"
      },
      "source": [
        "#생각해보면 20번의 에포크해보고 상승하니 과대적합 되지 않은 에포크만큼 다시 훈련했음\n",
        "#한 번에 못하나?\n",
        "\n",
        "#콜백 callback\n",
        "#훈련 과정 중간에 어떤 작업을 수행할 수 있게 하는 객체\n",
        "#keras.callbacks 패키지 아래에 있는 클래스들\n",
        "#fit() 메서드의 callbacks 매개변수에 리스트로 전달하여 사용\n",
        "#여기서 사용할 ModelCheckpoint 콜백은 기본적으로 에포크마다 모델을 저장함\n",
        "#save_best_only=True 매개변수를 지정하여 가장 낮은 검증 점수를 만드는 모델을 저장할 수 있음\n",
        "#저장될 파일 이름을 'best-model.h5'로 지정하여 콜백을 적용해봄\n",
        "model = model_fn(keras.layers.Dropout(0.3))\n",
        "model.compile(optimizer='adam',loss='sparse_categorical_crossentropy',metrics='accuracy')\n",
        "checkpoint_cb = keras.callbacks.ModelCheckpoint('best-model.h5',save_best_only=True)\n",
        "model.fit(train_scaled,train_target,epochs=20,verbose=0,validation_data=(val_scaled,val_target),callbacks=[checkpoint_cb])"
      ],
      "execution_count": 39,
      "outputs": [
        {
          "output_type": "execute_result",
          "data": {
            "text/plain": [
              "<keras.callbacks.History at 0x7fcf23577750>"
            ]
          },
          "metadata": {},
          "execution_count": 39
        }
      ]
    },
    {
      "cell_type": "code",
      "metadata": {
        "colab": {
          "base_uri": "https://localhost:8080/"
        },
        "id": "tcONupYFiF_Q",
        "outputId": "51d9e841-da4d-49df-d4a2-7d560caf5f1e"
      },
      "source": [
        "#모델이 훈련한 후에 best-model.h5에 최상의 검증 점수를 낸 모델이 저장됨\n",
        "model=keras.models.load_model('best-model.h5')\n",
        "model.evaluate(val_scaled,val_target)"
      ],
      "execution_count": 40,
      "outputs": [
        {
          "output_type": "stream",
          "name": "stdout",
          "text": [
            "375/375 [==============================] - 1s 1ms/step - loss: 0.3129 - accuracy: 0.8907\n"
          ]
        },
        {
          "output_type": "execute_result",
          "data": {
            "text/plain": [
              "[0.31285738945007324, 0.890749990940094]"
            ]
          },
          "metadata": {},
          "execution_count": 40
        }
      ]
    },
    {
      "cell_type": "code",
      "metadata": {
        "id": "QkpPlVmjidgo"
      },
      "source": [
        "#콜백이 가장 낮은 검증 점수 모델을 자동으로 저장해줬지만 결국 20번 훈련해야함\n",
        "#검증 점수가 상승하기 시작하면 과대적합이 더 커지기 때문에 훈련을 계속할 필요가 없음\n",
        "#조기 종료 early stopping을 통해 컴퓨터 자원과 시간을 아낄 수 있음\n",
        "#조기 종료는 또한 과대적합되는 것을 막아주기에 규제 방법 중 하나로 생각할 수도 있음\n",
        "#케라스는 조기 종료를 위한 EarlyStopping콜백을 제공함\n",
        "#patience 매개변수는 검증 점수가 향상되지 않더라도 참을 에포크 횟수를 지정함\n",
        "#restore_best_weights 매개변수를 True로 지정하면 가장 낮은 검증 손실을 낸 모델 파라미터로 되돌림\n",
        "#EarlyStopping 콜백을 ModelCheckpoint 콜백과 함께 사용하면 가장 낮은 검증 손실의 모델을 파일에 저장하고 검증 손실이 다시 상승할 때 훈련을 중지할 수 있음\n",
        "#훈련을 중지한 다음 현재 모델의 파라미터를 최상의 파라미터로 되돌림\n",
        "model = model_fn(keras.layers.Dropout(0.3))\n",
        "model.compile(optimizer='adam',loss='sparse_categorical_crossentropy',metrics='accuracy')\n",
        "checkpoint_cb = keras.callbacks.ModelCheckpoint('best-model.h5',save_best_only=True)\n",
        "early_stopping_cb=keras.callbacks.EarlyStopping(patience=2,restore_best_weights=True)\n",
        "history = model.fit(train_scaled,train_target,epochs=20,verbose=0,\n",
        "                    validation_data=(val_scaled,val_target),\n",
        "                    callbacks=[checkpoint_cb,early_stopping_cb])"
      ],
      "execution_count": 41,
      "outputs": []
    },
    {
      "cell_type": "code",
      "metadata": {
        "colab": {
          "base_uri": "https://localhost:8080/"
        },
        "id": "PRS7K9Mkj4Xh",
        "outputId": "2e84feee-c29d-4d7d-9f4c-f6d5df714083"
      },
      "source": [
        "#훈련을 마치고 나면 몇 번째 에포크에서 훈련이 중지되었는지 early_stopping_cb 객체의 stopped_epoch속성에서 확인할 수 있음\n",
        "print(early_stopping_cb.stopped_epoch)"
      ],
      "execution_count": 42,
      "outputs": [
        {
          "output_type": "stream",
          "name": "stdout",
          "text": [
            "13\n"
          ]
        }
      ]
    },
    {
      "cell_type": "code",
      "metadata": {
        "colab": {
          "base_uri": "https://localhost:8080/",
          "height": 279
        },
        "id": "y_gX4OjYkJq-",
        "outputId": "070834b7-06e9-4d6f-8db5-da7676b5ee8e"
      },
      "source": [
        "#에포크 횟수가 0부터 시작이기에 14번째 에포크이고 patience가 2기에 최상의 에포크는 12임\n",
        "plt.plot(history.history['loss'])\n",
        "plt.plot(history.history['val_loss'])\n",
        "plt.xlabel('epoch')\n",
        "plt.ylabel('loss')\n",
        "plt.legend(['train','val'])\n",
        "plt.show()"
      ],
      "execution_count": 43,
      "outputs": [
        {
          "output_type": "display_data",
          "data": {
            "image/png": "[encoded data removed]",
            "text/plain": [
              "<Figure size 432x288 with 1 Axes>"
            ]
          },
          "metadata": {
            "needs_background": "light"
          }
        }
      ]
    },
    {
      "cell_type": "code",
      "metadata": {
        "colab": {
          "base_uri": "https://localhost:8080/"
        },
        "id": "sjlEQiiCkeL6",
        "outputId": "4529e634-e473-4ed9-e41b-7bef61a5929a"
      },
      "source": [
        "#성능 테스트\n",
        "model.evaluate(val_scaled,val_target)"
      ],
      "execution_count": 44,
      "outputs": [
        {
          "output_type": "stream",
          "name": "stdout",
          "text": [
            "375/375 [==============================] - 1s 1ms/step - loss: 0.3173 - accuracy: 0.8876\n"
          ]
        },
        {
          "output_type": "execute_result",
          "data": {
            "text/plain": [
              "[0.3173450231552124, 0.887583315372467]"
            ]
          },
          "metadata": {},
          "execution_count": 44
        }
      ]
    },
    {
      "cell_type": "code",
      "metadata": {
        "colab": {
          "base_uri": "https://localhost:8080/"
        },
        "id": "nSuqN74ykoyX",
        "outputId": "c094bc1a-0c4c-4024-d275-f9817f7af504"
      },
      "source": [
        "test_scaled=test_input/255.0\n",
        "model.evaluate(test_scaled,test_target)"
      ],
      "execution_count": 45,
      "outputs": [
        {
          "output_type": "stream",
          "name": "stdout",
          "text": [
            "313/313 [==============================] - 1s 2ms/step - loss: 0.3451 - accuracy: 0.8780\n"
          ]
        },
        {
          "output_type": "execute_result",
          "data": {
            "text/plain": [
              "[0.3450835049152374, 0.878000020980835]"
            ]
          },
          "metadata": {},
          "execution_count": 45
        }
      ]
    },
    {
      "cell_type": "code",
      "metadata": {
        "id": "EwNMUx-Vkww3"
      },
      "source": [
        ""
      ],
      "execution_count": null,
      "outputs": []
    }
  ]
}